{
  "nbformat": 4,
  "nbformat_minor": 0,
  "metadata": {
    "colab": {
      "name": "luis_alfredo_osorio_jaramillo_AG1.ipynb",
      "provenance": [],
      "authorship_tag": "ABX9TyMW9+PS2kVBpBpeH9/L9HAQ",
      "include_colab_link": true
    },
    "kernelspec": {
      "name": "python3",
      "display_name": "Python 3"
    }
  },
  "cells": [
    {
      "cell_type": "markdown",
      "metadata": {
        "id": "view-in-github",
        "colab_type": "text"
      },
      "source": [
        "<a href=\"https://colab.research.google.com/github/luisalfredoo/03MAIR-Algoritmos-de-Optimizacion-2020/blob/master/AG1%20/%20luis_alfredo_osorio_jaramillo_AG1.ipynb\" target=\"_parent\"><img src=\"https://colab.research.google.com/assets/colab-badge.svg\" alt=\"Open In Colab\"/></a>"
      ]
    },
    {
      "cell_type": "markdown",
      "metadata": {
        "id": "fSyHXjkgpi6F",
        "colab_type": "text"
      },
      "source": [
        "# ACTIVIDAD GUIADA 1 \n",
        "## LUIS ALFREDO OSORIO JARAMILLO AG-1\n",
        "### https://colab.research.google.com/drive/1Ni2IlrMflw3Ae8X3tlWF3zlE9pIlKDrb?usp=sharing\n",
        "### https://github.com/luisalfredoo/03MAIR-Algoritmos-de-Optimizacion-2020/blob/master/AG1/luis_alfredo_osorio_jaramillo_AG1.ipynb\n"
      ]
    },
    {
      "cell_type": "code",
      "metadata": {
        "id": "8f9f0Tkepekx",
        "colab_type": "code",
        "outputId": "5e5a1c77-a9a0-4609-f0bc-b18919148c82",
        "colab": {
          "base_uri": "https://localhost:8080/",
          "height": 272
        }
      },
      "source": [
        "# Torres de Hanoi\n",
        "# metodo Divide y Venceras\n",
        "\n",
        "def Torres_Hanoi(N,desde, hasta):\n",
        "  if N==1 :\n",
        "    print('Mve desde la ' + str(desde) + ' hasta ' + str(hasta) )\n",
        "  else:\n",
        "    Torres_Hanoi(N-1,desde,6-desde-hasta )\n",
        "    print('Mueve desde la ' + str(desde) + ' hasta ' + str(hasta) )\n",
        "    Torres_Hanoi(N-1, 6-hasta-desde, hasta)\n",
        "\n",
        "Torres_Hanoi(4,1,3)\n"
      ],
      "execution_count": 0,
      "outputs": [
        {
          "output_type": "stream",
          "text": [
            "Mve desde la 1 hasta 2\n",
            "Mueve desde la 1 hasta 3\n",
            "Mve desde la 2 hasta 3\n",
            "Mueve desde la 1 hasta 2\n",
            "Mve desde la 3 hasta 1\n",
            "Mueve desde la 3 hasta 2\n",
            "Mve desde la 1 hasta 2\n",
            "Mueve desde la 1 hasta 3\n",
            "Mve desde la 2 hasta 3\n",
            "Mueve desde la 2 hasta 1\n",
            "Mve desde la 3 hasta 1\n",
            "Mueve desde la 2 hasta 3\n",
            "Mve desde la 1 hasta 2\n",
            "Mueve desde la 1 hasta 3\n",
            "Mve desde la 2 hasta 3\n"
          ],
          "name": "stdout"
        }
      ]
    },
    {
      "cell_type": "code",
      "metadata": {
        "id": "yx-t-kxVxAgg",
        "colab_type": "code",
        "colab": {
          "base_uri": "https://localhost:8080/",
          "height": 289
        },
        "outputId": "f4bbb055-d49b-4b6a-fa3e-36f99768cf98"
      },
      "source": [
        "# Opcion 2 para solucion Torres de Hanoi, especificando Torres Pivote\n",
        "def hanoi (n,origen , auxiliar , destino ) :\n",
        "  if n ==1:\n",
        "    print (origen ,\" --> \",destino )\n",
        "  else :\n",
        "    hanoi (n -1 , origen , destino , auxiliar )\n",
        "    print (origen ,\" --> \",destino )\n",
        "    hanoi (n -1 , auxiliar ,origen , destino )\n",
        "\n",
        "print(hanoi(4,1,2,3))"
      ],
      "execution_count": 37,
      "outputs": [
        {
          "output_type": "stream",
          "text": [
            "1  -->  2\n",
            "1  -->  3\n",
            "2  -->  3\n",
            "1  -->  2\n",
            "3  -->  1\n",
            "3  -->  2\n",
            "1  -->  2\n",
            "1  -->  3\n",
            "2  -->  3\n",
            "2  -->  1\n",
            "3  -->  1\n",
            "2  -->  3\n",
            "1  -->  2\n",
            "1  -->  3\n",
            "2  -->  3\n",
            "None\n"
          ],
          "name": "stdout"
        }
      ]
    },
    {
      "cell_type": "code",
      "metadata": {
        "id": "u59J82gKv3T_",
        "colab_type": "code",
        "outputId": "0832c037-748a-495f-8c0b-232e0db18019",
        "colab": {
          "base_uri": "https://localhost:8080/",
          "height": 34
        }
      },
      "source": [
        "#Cambio monedas\n",
        "Sistema_Monetario = [25,10,5,1]\n",
        "def cambio_monedas(N,Sistema_Monetario):\n",
        "  ValorAcumulado = 0\n",
        "  sol = [0]*len(Sistema_Monetario)\n",
        "\n",
        "  for i,m in enumerate(Sistema_Monetario):\n",
        "    monedas = (N-ValorAcumulado)//m\n",
        "    ValorAcumulado += monedas*m\n",
        "    sol[i] = monedas\n",
        "  return sol\n",
        "\n",
        "print(cambio_monedas(27,Sistema_Monetario))\n"
      ],
      "execution_count": 0,
      "outputs": [
        {
          "output_type": "stream",
          "text": [
            "[1, 0, 0, 2]\n"
          ],
          "name": "stdout"
        }
      ]
    },
    {
      "cell_type": "markdown",
      "metadata": {
        "id": "SP1IqgkUMt_d",
        "colab_type": "text"
      },
      "source": [
        "### Problema de las cuatro Reinas  tablero 4x4"
      ]
    },
    {
      "cell_type": "code",
      "metadata": {
        "id": "3BEYHkFbMtR-",
        "colab_type": "code",
        "colab": {
          "base_uri": "https://localhost:8080/",
          "height": 170
        },
        "outputId": "5c2e744e-34fc-41dd-d46c-29e68875c2f3"
      },
      "source": [
        "def es_prometedora(SOLUCION,etapa):\n",
        "  for i in range(etapa+1):\n",
        "    if SOLUCION.count(SOLUCION[i]) > 1 :  return False\n",
        "\n",
        "    for j in range(i+1,etapa+1) :\n",
        "      if abs(i-j) == abs(SOLUCION[i] - SOLUCION[j]) : return False\n",
        "  return True\n",
        "\n",
        "def escribe(solucion):\n",
        "  print('\\n\\nLa Solucion es:')\n",
        "  print(solucion)\n",
        "\n",
        "\n",
        "def reinas(N,solucion,etapa) :\n",
        "  for i in range(1,N+1):\n",
        "    solucion[etapa] = i\n",
        "    if es_prometedora(solucion,etapa) :\n",
        "      if etapa == N-1 :\n",
        "        #print('\\n\\nLa Solucion es:')\n",
        "        #print(solucion)\n",
        "        escribe(solucion)\n",
        "      else:\n",
        "        reinas(N,solucion,etapa+1)\n",
        "    else :\n",
        "      None\n",
        "    solucion[etapa] = 0\n",
        "\n",
        "N= int(input())\n",
        "solucion = []\n",
        "for i in range(N):\n",
        "\tsolucion.append(0)\n",
        "etapa = 0\n",
        "\n",
        "reinas(N,solucion, etapa)\n",
        "   \n",
        "\n"
      ],
      "execution_count": 19,
      "outputs": [
        {
          "output_type": "stream",
          "text": [
            "4\n",
            "\n",
            "\n",
            "La Solucion es:\n",
            "[2, 4, 1, 3]\n",
            "\n",
            "\n",
            "La Solucion es:\n",
            "[3, 1, 4, 2]\n"
          ],
          "name": "stdout"
        }
      ]
    },
    {
      "cell_type": "markdown",
      "metadata": {
        "id": "fRvUZkYTtgrC",
        "colab_type": "text"
      },
      "source": [
        "# Encontrar los puntos mas cercanos. Distancia ente puntos"
      ]
    },
    {
      "cell_type": "code",
      "metadata": {
        "id": "gSOk2uY9tfBX",
        "colab_type": "code",
        "colab": {
          "base_uri": "https://localhost:8080/",
          "height": 68
        },
        "outputId": "a5ee4a85-a23d-4039-b5fa-518633baac03"
      },
      "source": [
        "import random\n",
        "from math import sqrt\n",
        "\n",
        "def Distancia_puntos1D(u,v):\n",
        "  sum2 = (u-v)**2\n",
        "  return sqrt(sum2)\n",
        "\n",
        "def Distancia_puntos2D(u=[],v=[]):\n",
        "  #puntos en la misma dimension\n",
        "  sum2 = 0\n",
        "  if len(u)==len(v) : \n",
        "    for i in range(len(u)):\n",
        "      sum2 += (u[i]-v[i])**2\n",
        "  return sqrt(sum2)\n",
        "\n",
        "\n",
        "def cercano(lista=[],n=1) :\n",
        "  d_min = 10e10\n",
        "  R = [0,0,0]\n",
        "  for i in range(len(lista)):\n",
        "    for j in range(i+1,len(lista)):\n",
        "      if n == 1 :\n",
        "        D = Distancia_puntos1D(lista[i],lista[j])\n",
        "      else :\n",
        "        D = Distancia_puntos2D(lista[i],lista[j])\n",
        "      if D < d_min :\n",
        "        R[0] = lista[i]  # punto 1\n",
        "        R[1] = lista[j]  # punto 2\n",
        "        R[2] = D         # Distancia minima\n",
        "  return R\n",
        "\n",
        "lista_1d = [random.randrange(1,100000) for x in range(1000)]\n",
        "print(cercano(lista_1d,1))\n",
        "lista_2d = [(random.randrange(1,100000), random.randrange(1,100000) ) for x in range(1000)]\n",
        "print(cercano(lista_2d,2))\n",
        "lista_3d = [(random.randrange(1,100000), random.randrange(1,100000),random.randrange(1,100000)  ) for x in range(1000)]\n",
        "print(cercano(lista_3d,3))\n"
      ],
      "execution_count": 36,
      "outputs": [
        {
          "output_type": "stream",
          "text": [
            "[17019, 87632, 70613.0]\n",
            "[(17479, 11863), (29451, 81816), 70970.07110747459]\n",
            "[(76762, 51361, 77712), (63301, 13155, 55832), 46039.45435167537]\n"
          ],
          "name": "stdout"
        }
      ]
    },
    {
      "cell_type": "markdown",
      "metadata": {
        "id": "fzosNP5MSull",
        "colab_type": "text"
      },
      "source": [
        " Complejidad de este algoritmo es O(n$^2$)\n",
        " "
      ]
    },
    {
      "cell_type": "code",
      "metadata": {
        "id": "GPZDYGIuTOSS",
        "colab_type": "code",
        "colab": {}
      },
      "source": [
        ""
      ],
      "execution_count": 0,
      "outputs": []
    }
  ]
}