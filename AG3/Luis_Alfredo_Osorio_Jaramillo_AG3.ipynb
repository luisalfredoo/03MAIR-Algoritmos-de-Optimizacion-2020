{
  "nbformat": 4,
  "nbformat_minor": 0,
  "metadata": {
    "colab": {
      "name": "Luis_Alfredo_Osorio_Jaramillo_AG3.ipynb",
      "provenance": [],
      "authorship_tag": "ABX9TyMCzHDLwn+3wtuj+5kPGH1W",
      "include_colab_link": true
    },
    "kernelspec": {
      "name": "python3",
      "display_name": "Python 3"
    }
  },
  "cells": [
    {
      "cell_type": "markdown",
      "metadata": {
        "id": "view-in-github",
        "colab_type": "text"
      },
      "source": [
        "<a href=\"https://colab.research.google.com/github/luisalfredoo/03MAIR-Algoritmos-de-Optimizacion-2020/blob/master/AG3/Luis_Alfredo_Osorio_Jaramillo_AG3.ipynb\" target=\"_parent\"><img src=\"https://colab.research.google.com/assets/colab-badge.svg\" alt=\"Open In Colab\"/></a>"
      ]
    },
    {
      "cell_type": "markdown",
      "metadata": {
        "id": "KyVtaXb-FzoW",
        "colab_type": "text"
      },
      "source": [
        "# AG3 - ACTIVIDAD GUIADA 3\n",
        "\n",
        "## LUIS ALFREDO OSORIO JARAMILLO\n",
        "\n",
        "https://colab.research.google.com/drive/1Bow7WoLSG6TF9FsbA6ao9oXLV5-qE3xe?usp=sharing\n",
        "\n",
        "https://github.com/luisalfredoo/03MAIR-Algoritmos-de-Optimizacion-2020/blob/master/AG3/Luis_Alfredo_Osorio_Jaramillo_AG3.ipynb\n"
      ]
    },
    {
      "cell_type": "code",
      "metadata": {
        "id": "9Qz4fjCfFctA",
        "colab_type": "code",
        "colab": {}
      },
      "source": [
        "!pip install request\n",
        "!pip install tsplib95"
      ],
      "execution_count": null,
      "outputs": []
    },
    {
      "cell_type": "code",
      "metadata": {
        "id": "8N5Q-9xFHZVE",
        "colab_type": "code",
        "colab": {
          "base_uri": "https://localhost:8080/",
          "height": 34
        },
        "outputId": "01b67560-998c-45b4-d481-2d153fe86412"
      },
      "source": [
        "import urllib.request\n",
        "import tsplib95\n",
        "import random\n",
        "from math import e,inf\n",
        "\n",
        "file = 'swiss42.tsp'\n",
        "urllib.request.urlretrieve('http://elib.zib.de/pub/mp-testdata/tsp/tsplib/tsp/swiss42.tsp',file)\n"
      ],
      "execution_count": 16,
      "outputs": [
        {
          "output_type": "execute_result",
          "data": {
            "text/plain": [
              "('swiss42.tsp', <http.client.HTTPMessage at 0x7f94abe1c240>)"
            ]
          },
          "metadata": {
            "tags": []
          },
          "execution_count": 16
        }
      ]
    },
    {
      "cell_type": "code",
      "metadata": {
        "id": "2fVt9LPzIsXx",
        "colab_type": "code",
        "colab": {}
      },
      "source": [
        "problem = tsplib95.load_problem(file)\n",
        "\n",
        "Nodos = list(problem.get_nodes())\n",
        "Aristas = list(problem.get_edges())\n",
        "\n",
        "Nodos"
      ],
      "execution_count": null,
      "outputs": []
    },
    {
      "cell_type": "code",
      "metadata": {
        "id": "4uzlP23NO-af",
        "colab_type": "code",
        "colab": {
          "base_uri": "https://localhost:8080/",
          "height": 34
        },
        "outputId": "189b74d8-2da9-47aa-c9b5-2c1be4487b55"
      },
      "source": [
        "# solucion aleatoria con comienzo en el nodo 0\n",
        "def crear_solucion(Nodos):\n",
        "  solucion = [Nodos[0]]\n",
        "  for n in Nodos[1:]:\n",
        "    solucion = solucion + [random.choice(list(set(Nodos) - set({Nodos[0]}) - set(solucion) ))]\n",
        "  return solucion \n",
        "\n",
        "#calcular distancia entre dos puntos\n",
        "def distancia(a,b,problem) :\n",
        "  return problem.get_weight(a,b)\n",
        "\n",
        "#distancia total de una trayectoria/solucion\n",
        "def distancia_total(solucion,problem):\n",
        "  distancia_total = 0\n",
        "  for i in range(len(solucion)-1):\n",
        "    distancia_total += distancia(solucion[i], solucion[i+1],problem)\n",
        "  return distancia_total + distancia(solucion[len(solucion)-1], solucion[0] , problem )\n",
        "\n",
        "s=crear_solucion(Nodos)\n",
        "distancia_total(s,problem)\n"
      ],
      "execution_count": 18,
      "outputs": [
        {
          "output_type": "execute_result",
          "data": {
            "text/plain": [
              "4721"
            ]
          },
          "metadata": {
            "tags": []
          },
          "execution_count": 18
        }
      ]
    },
    {
      "cell_type": "code",
      "metadata": {
        "id": "a0CXODTlJLq8",
        "colab_type": "code",
        "colab": {
          "base_uri": "https://localhost:8080/",
          "height": 71
        },
        "outputId": "caabd0e2-0187-4d61-a28f-c02c50ebda19"
      },
      "source": [
        "def busqueda_aleatoria(problem , N):\n",
        "  Nodos = list(problem.get_nodes())\n",
        "\n",
        "  mejor_solucion = []\n",
        "  mejor_distancia = inf\n",
        "\n",
        "  for i in range(N):\n",
        "    solucion = crear_solucion(Nodos)\n",
        "    distancia = distancia_total(solucion , problem)\n",
        "    if distancia < mejor_distancia :\n",
        "      mejor_solucion = solucion \n",
        "      mejor_distancia = distancia\n",
        "\n",
        "  print('mejor solucion: ', mejor_solucion)\n",
        "  print('distancia     : ', mejor_distancia)\n",
        "  return mejor_solucion\n",
        "\n",
        "sol = busqueda_aleatoria(problem,25000)"
      ],
      "execution_count": 23,
      "outputs": [
        {
          "output_type": "stream",
          "text": [
            "mejor solucion:  [0, 2, 30, 31, 17, 35, 37, 12, 8, 39, 38, 40, 24, 11, 27, 15, 3, 6, 21, 25, 1, 4, 19, 36, 16, 34, 33, 20, 22, 9, 23, 14, 29, 5, 28, 41, 10, 18, 26, 7, 13, 32]\n",
            "distancia     :  3551\n"
          ],
          "name": "stdout"
        }
      ]
    },
    {
      "cell_type": "code",
      "metadata": {
        "id": "_MAIpSKPN0KA",
        "colab_type": "code",
        "colab": {
          "base_uri": "https://localhost:8080/",
          "height": 71
        },
        "outputId": "07bd86eb-e72e-4741-fa03-a557b8375d3e"
      },
      "source": [
        "#generador de vencindad\n",
        "def genera_vecina(solucion,problem):\n",
        "\n",
        "  mejor_solucion=[]\n",
        "  mejor_distancia = inf\n",
        "  for i in range(1,len(solucion)-1):\n",
        "    for j in range(i+1, len(solucion)):\n",
        "      vecina = solucion[:i] + [solucion[j]]  + solucion[i+1:j] + [solucion[i]] + solucion[j+1:]\n",
        "      distancia_vecina = distancia_total(vecina,problem)\n",
        "      if distancia_vecina <= mejor_distancia :\n",
        "        mejor_distancia = distancia_vecina \n",
        "        mejor_solucion = vecina \n",
        "  return mejor_solucion\n",
        "\n",
        "\n",
        "s1=crear_solucion(Nodos)\n",
        "s2=genera_vecina(s1,problem)\n",
        "\n",
        "print(distancia_total(s1,problem),s1)\n",
        "print(distancia_total(s2,problem),s2)"
      ],
      "execution_count": 35,
      "outputs": [
        {
          "output_type": "stream",
          "text": [
            "4242 [0, 15, 31, 34, 12, 16, 36, 19, 35, 5, 27, 23, 25, 26, 11, 9, 37, 2, 30, 39, 20, 38, 24, 21, 4, 40, 29, 22, 33, 14, 28, 8, 7, 17, 41, 13, 32, 6, 18, 10, 1, 3]\n",
            "3887 [0, 15, 31, 34, 12, 16, 36, 19, 35, 5, 27, 23, 25, 26, 11, 9, 41, 2, 30, 39, 20, 38, 24, 21, 4, 40, 29, 22, 33, 14, 28, 8, 7, 17, 37, 13, 32, 6, 18, 10, 1, 3]\n"
          ],
          "name": "stdout"
        }
      ]
    },
    {
      "cell_type": "code",
      "metadata": {
        "id": "YiLaPFvHYbnI",
        "colab_type": "code",
        "colab": {
          "base_uri": "https://localhost:8080/",
          "height": 71
        },
        "outputId": "805b2404-0a43-48ff-c67d-da7196371875"
      },
      "source": [
        "#busqueda local\n",
        "def busqueda_local(problem):\n",
        "  mejor_solucion=[]\n",
        "\n",
        "  solucion_referencia=crear_solucion(Nodos)\n",
        "  mejor_distancia = inf\n",
        "\n",
        "  iteracion = 0\n",
        "  while (1):\n",
        "    iteracion += 1\n",
        "    vecina = genera_vecina(solucion_referencia,problem)\n",
        "    distancia_vecina = distancia_total(vecina,problem)\n",
        "\n",
        "    if distancia_vecina < mejor_distancia :\n",
        "      mejor_solucion = vecina #copy.deepcopy(vecina)\n",
        "      mejor_distancia = distancia_vecina\n",
        "    else :\n",
        "      print('en la iteracion ', iteracion , ' la mejor solucion es : ', mejor_solucion)\n",
        "      print('distancia : ', mejor_distancia)\n",
        "      return mejor_solucion\n",
        "    solucion_referencia = vecina\n",
        "\n",
        "sol = busqueda_local(problem)\n",
        "\n",
        "\n",
        "\n"
      ],
      "execution_count": 45,
      "outputs": [
        {
          "output_type": "stream",
          "text": [
            "en la iteracion  38  la mejor solucion es :  [0, 1, 5, 13, 19, 14, 16, 17, 20, 33, 34, 38, 22, 39, 9, 10, 25, 11, 12, 18, 26, 6, 4, 2, 3, 7, 15, 37, 36, 35, 31, 32, 30, 29, 8, 41, 23, 40, 24, 21, 28, 27]\n",
            "distancia :  1656\n"
          ],
          "name": "stdout"
        }
      ]
    },
    {
      "cell_type": "code",
      "metadata": {
        "id": "KKENSjY_3UnV",
        "colab_type": "code",
        "colab": {
          "base_uri": "https://localhost:8080/",
          "height": 51
        },
        "outputId": "6bd230dd-6d42-4191-f84c-ce319cc90628"
      },
      "source": [
        "def genera_vecina_aleatorio(solucion):\n",
        "  \n",
        "  #se elijen dos nodos aleatoriamente\n",
        "  i,j = sorted(random.sample(range(1,len(solucion)) ,2 ))\n",
        "\n",
        "  return solucion[:i] + [solucion[j]] + solucion[i+1:j] + [solucion[i]] + solucion[j+1:]\n",
        "  \n",
        "print(s)\n",
        "print(genera_vecina_aleatorio(s))\n"
      ],
      "execution_count": 46,
      "outputs": [
        {
          "output_type": "stream",
          "text": [
            "[0, 18, 24, 17, 11, 6, 41, 3, 36, 20, 1, 12, 27, 22, 23, 35, 37, 33, 32, 8, 21, 7, 10, 39, 29, 30, 19, 26, 28, 2, 4, 34, 5, 9, 25, 14, 15, 40, 38, 16, 31, 13]\n",
            "[0, 18, 24, 17, 11, 6, 41, 3, 36, 20, 1, 12, 27, 22, 23, 35, 16, 33, 32, 8, 21, 7, 10, 39, 29, 30, 19, 26, 28, 2, 4, 34, 5, 9, 25, 14, 15, 40, 38, 37, 31, 13]\n"
          ],
          "name": "stdout"
        }
      ]
    },
    {
      "cell_type": "code",
      "metadata": {
        "id": "t0Zhyp_KINOr",
        "colab_type": "code",
        "colab": {
          "base_uri": "https://localhost:8080/",
          "height": 34
        },
        "outputId": "0c816b03-3beb-4361-eaf7-659e862e2d40"
      },
      "source": [
        "from math import  exp\n",
        "def bajar_temperatura(T):\n",
        "  return T*0.99\n",
        "\n",
        "def probabilidad(T,d):\n",
        "  return random.random() <  exp( -1*d / T)  \n",
        "\n",
        "probabilidad(1000,.1)\n",
        "    "
      ],
      "execution_count": 52,
      "outputs": [
        {
          "output_type": "execute_result",
          "data": {
            "text/plain": [
              "False"
            ]
          },
          "metadata": {
            "tags": []
          },
          "execution_count": 52
        }
      ]
    },
    {
      "cell_type": "code",
      "metadata": {
        "id": "SdvA8R6UQUG8",
        "colab_type": "code",
        "colab": {
          "base_uri": "https://localhost:8080/",
          "height": 71
        },
        "outputId": "dc72f6fc-8dee-4dec-9046-bcfbb08775b5"
      },
      "source": [
        "def recocido_simulado(problem, TEMPERATURA = 1000):\n",
        "\n",
        "  solucion_referencia = crear_solucion(Nodos)\n",
        "  distancia_referencia = distancia_total(solucion_referencia, problem)\n",
        "\n",
        "  mejor_solucion = []\n",
        "  mejor_distancia = inf \n",
        "  N = 0\n",
        "  while TEMPERATURA > .0001 :\n",
        "    N += 1\n",
        "    vecina = genera_vecina_aleatorio(solucion_referencia)\n",
        "    distancia_vecina = distancia_total(vecina, problem)\n",
        "    if distancia_vecina < mejor_distancia :\n",
        "      mejor_solucion = vecina  \n",
        "      mejor_distancia = distancia_vecina\n",
        "\n",
        "    if distancia_vecina < distancia_referencia or probabilidad(TEMPERATURA,abs(distancia_referencia - distancia_vecina)) :\n",
        "      solucion_referencia = vecina \n",
        "      distancia_referencia = distancia_vecina \n",
        "\n",
        "    TEMPERATURA = bajar_temperatura(TEMPERATURA)\n",
        "\n",
        "  print('la mejor solucon es  ', end='')\n",
        "  print(mejor_solucion)\n",
        "  print(' con una distancia total de ' , end='')\n",
        "  print(mejor_distancia)\n",
        "  return mejor_solucion\n",
        "\n",
        "sol = recocido_simulado(problem,100000)\n",
        "\n"
      ],
      "execution_count": 57,
      "outputs": [
        {
          "output_type": "stream",
          "text": [
            "la mejor solucon es  [0, 3, 39, 21, 24, 40, 23, 41, 15, 14, 16, 7, 28, 29, 10, 12, 13, 26, 25, 38, 34, 33, 9, 8, 5, 11, 18, 20, 36, 35, 37, 2, 4, 31, 17, 19, 6, 32, 22, 30, 27, 1]\n",
            " con una distancia total de 2765\n"
          ],
          "name": "stdout"
        }
      ]
    },
    {
      "cell_type": "markdown",
      "metadata": {
        "id": "NkePZbdkXHTZ",
        "colab_type": "text"
      },
      "source": [
        "##Algoritmo de colonia de hormigas\n",
        "\n",
        "La función Add_Nodo selecciona al azar un nodo con probabilidad uniforme.\n",
        "Para ser mas eficiente debería seleccionar el próximo nodo siguiendo la probabilidad correspondiente a la ecuación:\n",
        "\n",
        "$p^k_{ij}(t) = \\frac{[\\tau_{ij}(t)]^\\alpha[\\nu_{ij}]^\\beta}{\\sum_{l\\in J^k_i} [\\tau_{il}(t)]^\\alpha[\\nu_{il}]^\\beta}$, si $j \\in J^k_i$\n",
        "\n",
        "$p^k_{ij}(t) = 0$, si $j \\notin J^k_i$"
      ]
    },
    {
      "cell_type": "code",
      "metadata": {
        "id": "_zuGcEx9WdBF",
        "colab_type": "code",
        "colab": {}
      },
      "source": [
        "def Add_Nodo(problem, H ,T ) :\n",
        "  #Mejora:Establecer una funcion de probabilidad para \n",
        "  # añadir un nuevo nodo dependiendo de los nodos mas cercanos y de las feromonas depositadas\n",
        "  Nodos = list(problem.get_nodes())\n",
        "  return random.choice(   list(set(range(1,len(Nodos))) - set(H) )  )\n",
        "\n",
        "\n",
        "def Incrementa_Feromona(problem, T, H ) :\n",
        "  #Incrementa segun la calidad de la solución. Añadir una cantidad inversamente proporcional a la distancia total \n",
        "  for i in range(len(H)-1):\n",
        "    T[H[i]][H[i+1]] += 1000/distancia_total(H, problem)\n",
        "  return T\n",
        "\n",
        "def Evaporar_Feromonas(T ):\n",
        "  #Evapora 0.3 el valor de la feromona, sin que baje de 1\n",
        "  #Mejora:Podemos elegir diferentes funciones de evaporación dependiendo de la cantidad actual y de la suma total de feromonas depositadas,...\n",
        "  T = [[ max(T[i][j] - 0.3 , 1) for i in range(len(Nodos)) ] for j in range(len(Nodos))]\n",
        "  return T"
      ],
      "execution_count": 59,
      "outputs": []
    },
    {
      "cell_type": "code",
      "metadata": {
        "id": "_edRfnG1XUrj",
        "colab_type": "code",
        "colab": {
          "base_uri": "https://localhost:8080/",
          "height": 51
        },
        "outputId": "a7228501-6595-42e8-920c-5def2fafec34"
      },
      "source": [
        "def hormigas(problem, N) :\n",
        "  #problem = datos del problema\n",
        "  #N = Número de agentes(hormigas)\n",
        "    \n",
        "  #Nodos\n",
        "  Nodos = list(problem.get_nodes())\n",
        "  #Aristas\n",
        "  Aristas = list(problem.get_edges()) \n",
        "  \n",
        "  #Inicializa las aristas con una cantidad inicial de feromonas:1\n",
        "  #Mejora: inicializar con valores diferentes dependiendo diferentes criterios\n",
        "  T = [[ 1 for _ in range(len(Nodos)) ] for _ in range(len(Nodos))]\n",
        "  \n",
        "  #Se generan los agentes(hormigas) que serán estructuras de caminos desde 0\n",
        "  Hormiga = [[0] for _ in range(N)]\n",
        "  \n",
        "  #Recorre cada agente construyendo la solución\n",
        "  for h in range(N) :\n",
        "    #Para cada agente se construye un camino\n",
        "    for i in range(len(Nodos)-1) :\n",
        "      \n",
        "      #Elige el siguiente nodo\n",
        "      Nuevo_Nodo = Add_Nodo(problem, Hormiga[h] ,T )\n",
        "      Hormiga[h].append(Nuevo_Nodo)     \n",
        "    \n",
        "    #Incrementa feromonas en esa arista \n",
        "    T = Incrementa_Feromona(problem, T, Hormiga[h] )\n",
        "    #print(\"Feromonas(1)\", T)\n",
        "      \n",
        "    #Evapora Feromonas  \n",
        "    T = Evaporar_Feromonas(T)\n",
        "    #print(\"Feromonas(2)\", T)\n",
        "\n",
        "    #Seleccionamos el mejor agente\n",
        "  mejor_solucion = []\n",
        "  mejor_distancia = 10e100\n",
        "  for h in range(N) :\n",
        "    distancia_actual = distancia_total(Hormiga[h], problem)\n",
        "    if distancia_actual < mejor_distancia:\n",
        "      mejor_solucion = Hormiga[h]\n",
        "      mejor_distancia =distancia_actual\n",
        "  \n",
        "  \n",
        "  print(mejor_solucion)\n",
        "  print(mejor_distancia)\n",
        "  \n",
        "  \n",
        "hormigas(problem, 1000)"
      ],
      "execution_count": 60,
      "outputs": [
        {
          "output_type": "stream",
          "text": [
            "[0, 40, 39, 34, 3, 1, 5, 36, 8, 21, 38, 29, 18, 11, 25, 15, 33, 35, 20, 26, 9, 10, 13, 31, 17, 24, 41, 16, 19, 23, 14, 37, 12, 4, 28, 32, 2, 6, 30, 22, 27, 7]\n",
            "4049\n"
          ],
          "name": "stdout"
        }
      ]
    }
  ]
}