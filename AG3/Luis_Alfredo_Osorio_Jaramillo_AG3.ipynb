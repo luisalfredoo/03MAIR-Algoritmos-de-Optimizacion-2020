{
  "nbformat": 4,
  "nbformat_minor": 0,
  "metadata": {
    "colab": {
      "name": "Luis_Alfredo_Osorio_Jaramillo_AG3.ipynb",
      "provenance": [],
      "authorship_tag": "ABX9TyPuL3pBjVWJOgAeGfmdBwg2",
      "include_colab_link": true
    },
    "kernelspec": {
      "name": "python3",
      "display_name": "Python 3"
    }
  },
  "cells": [
    {
      "cell_type": "markdown",
      "metadata": {
        "id": "view-in-github",
        "colab_type": "text"
      },
      "source": [
        "<a href=\"https://colab.research.google.com/github/luisalfredoo/03MAIR-Algoritmos-de-Optimizacion-2020/blob/master/AG3/Luis_Alfredo_Osorio_Jaramillo_AG3.ipynb\" target=\"_parent\"><img src=\"https://colab.research.google.com/assets/colab-badge.svg\" alt=\"Open In Colab\"/></a>"
      ]
    },
    {
      "cell_type": "markdown",
      "metadata": {
        "id": "KyVtaXb-FzoW",
        "colab_type": "text"
      },
      "source": [
        "# AG3 - ACTIVIDAD GUIADA 3\n",
        "\n",
        "## LUIS ALFREDO OSORIO JARAMILLO\n",
        "\n",
        "https://colab.research.google.com/drive/1Bow7WoLSG6TF9FsbA6ao9oXLV5-qE3xe?usp=sharing\n",
        "\n",
        "\n"
      ]
    },
    {
      "cell_type": "code",
      "metadata": {
        "id": "9Qz4fjCfFctA",
        "colab_type": "code",
        "colab": {}
      },
      "source": [
        ""
      ],
      "execution_count": null,
      "outputs": []
    }
  ]
}