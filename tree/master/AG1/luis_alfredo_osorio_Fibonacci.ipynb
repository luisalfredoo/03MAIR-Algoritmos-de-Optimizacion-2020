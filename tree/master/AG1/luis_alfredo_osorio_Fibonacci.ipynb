{
  "nbformat": 4,
  "nbformat_minor": 0,
  "metadata": {
    "colab": {
      "name": "luis_alfredo_osorio_Fibonacci.ipynb",
      "provenance": [],
      "authorship_tag": "ABX9TyO6nln48l03lqE4FFbCL7rV",
      "include_colab_link": true
    },
    "kernelspec": {
      "name": "python3",
      "display_name": "Python 3"
    }
  },
  "cells": [
    {
      "cell_type": "markdown",
      "metadata": {
        "id": "view-in-github",
        "colab_type": "text"
      },
      "source": [
        "<a href=\"https://colab.research.google.com/github/luisalfredoo/03MAIR-Algoritmos-de-Optimizacion-2020/blob/master/tree/master/AG1/luis_alfredo_osorio_Fibonacci.ipynb\" target=\"_parent\"><img src=\"https://colab.research.google.com/assets/colab-badge.svg\" alt=\"Open In Colab\"/></a>"
      ]
    },
    {
      "cell_type": "markdown",
      "metadata": {
        "id": "3wRaJq8uGYmW",
        "colab_type": "text"
      },
      "source": [
        "###  Serie Fibonacci - metodo iterativo"
      ]
    },
    {
      "cell_type": "code",
      "metadata": {
        "id": "H_Oksd5FGSW7",
        "colab_type": "code",
        "colab": {
          "base_uri": "https://localhost:8080/",
          "height": 68
        },
        "outputId": "88fce267-e5e1-471e-edcf-d233edb789f8"
      },
      "source": [
        "# Fibonacci Iterando\n",
        "%%time \n",
        "\n",
        "def fb(n) :\n",
        "  a = []\n",
        "  a.insert(0,1)\n",
        "  a.insert(1,1)\n",
        "  for i in range(2,n,1):\n",
        "    a.insert(i,a[i-1]+a[i-2])\n",
        "  return a\n",
        "\n",
        "print(fb(10))"
      ],
      "execution_count": 37,
      "outputs": [
        {
          "output_type": "stream",
          "text": [
            "[1, 1, 2, 3, 5, 8, 13, 21, 34, 55]\n",
            "CPU times: user 59 µs, sys: 19 µs, total: 78 µs\n",
            "Wall time: 82.5 µs\n"
          ],
          "name": "stdout"
        }
      ]
    },
    {
      "cell_type": "markdown",
      "metadata": {
        "id": "bmJxN1mikmzu",
        "colab_type": "text"
      },
      "source": [
        "###  Serie Fibonacci - metodo recursividad"
      ]
    },
    {
      "cell_type": "code",
      "metadata": {
        "id": "dSFjl6i1RGKr",
        "colab_type": "code",
        "colab": {
          "base_uri": "https://localhost:8080/",
          "height": 68
        },
        "outputId": "a4d1e261-fd07-4b3f-a7d8-5ad96bc913f0"
      },
      "source": [
        "%%time\n",
        "\n",
        "def fb(n):\n",
        "  if n<=1 :\n",
        "    return n\n",
        "  return fb(n-1) + fb(n-2)\n",
        "\n",
        "def fb_recursivo(k):\n",
        "  a = []\n",
        "  for i in range(1,k+1) :\n",
        "    a.insert(i,fb(i))\n",
        "  return a\n",
        "\n",
        "print(fb_recursivo(10))\n",
        "\n"
      ],
      "execution_count": 36,
      "outputs": [
        {
          "output_type": "stream",
          "text": [
            "[1, 1, 2, 3, 5, 8, 13, 21, 34, 55]\n",
            "CPU times: user 125 µs, sys: 0 ns, total: 125 µs\n",
            "Wall time: 129 µs\n"
          ],
          "name": "stdout"
        }
      ]
    }
  ]
}