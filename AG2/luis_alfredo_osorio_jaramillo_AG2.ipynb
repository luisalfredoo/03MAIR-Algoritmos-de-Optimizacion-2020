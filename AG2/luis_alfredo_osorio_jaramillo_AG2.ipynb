{
  "nbformat": 4,
  "nbformat_minor": 0,
  "metadata": {
    "colab": {
      "name": "luis_alfredo_osorio_jaramillo_AG2.ipynb",
      "provenance": [],
      "collapsed_sections": [],
      "authorship_tag": "ABX9TyNi6dIp2mYvzoSPBLzouGba",
      "include_colab_link": true
    },
    "kernelspec": {
      "name": "python3",
      "display_name": "Python 3"
    }
  },
  "cells": [
    {
      "cell_type": "markdown",
      "metadata": {
        "id": "view-in-github",
        "colab_type": "text"
      },
      "source": [
        "<a href=\"https://colab.research.google.com/github/luisalfredoo/03MAIR-Algoritmos-de-Optimizacion-2020/blob/master/AG2/luis_alfredo_osorio_jaramillo_AG2.ipynb\" target=\"_parent\"><img src=\"https://colab.research.google.com/assets/colab-badge.svg\" alt=\"Open In Colab\"/></a>"
      ]
    },
    {
      "cell_type": "markdown",
      "metadata": {
        "id": "sIwiWPyoafEB",
        "colab_type": "text"
      },
      "source": [
        "# ACTIVIDAD GUIADA 2\n",
        "## LUIS ALFREDO OSORIO JARAMILLO AG-2\n",
        "### https://colab.research.google.com/drive/11-6yXXbsf_m-GwayPdKlAXWMH1z-eLaa#scrollTo=3CA4Urg39ZlA\n",
        "### https://github.com/luisalfredoo"
      ]
    },
    {
      "cell_type": "code",
      "metadata": {
        "id": "bnCP_u4RaXuC",
        "colab_type": "code",
        "colab": {}
      },
      "source": [
        "# programacion dinamica  CAMINO MAS CORTO\n",
        "def precios(TARIFAS):\n",
        "  N = len(TARIFAS[0])\n",
        "  PRECIOS = [[9999]*N for i in [9999]*N]\n",
        "  RUTA = [['']*N for i in ['']*N]\n",
        "  for i in range(N-1):\n",
        "    for j in range(i+1,N):\n",
        "      MIN=TARIFAS[i][j]\n",
        "      RUTA[i][j]=i\n",
        "      \n",
        "      for k in range(i,j):\n",
        "        if PRECIOS[i][k]+TARIFAS[k][j] < MIN:\n",
        "          MIN = min(MIN, PRECIOS[i][k] + TARIFAS[k][j])\n",
        "          RUTA[i][j]=k\n",
        "        PRECIOS[i][j]=MIN\n",
        "  return PRECIOS,RUTA\n",
        "\n",
        "TARIFAS=[[0,5,4,3,99,99,99],\n",
        "         [99,0,99,2,3,99,11],\n",
        "         [99,99,0,1,99,4,10],\n",
        "         [99,99,99,0,5,6,9],\n",
        "         [99,99,99,99,0,99,4],\n",
        "         [99,99,99,99,99,0,3],\n",
        "         [99,99,99,99,99,99,0]]\n",
        "\n"
      ],
      "execution_count": null,
      "outputs": []
    },
    {
      "cell_type": "code",
      "metadata": {
        "id": "W7yJBBcQP8qT",
        "colab_type": "code",
        "colab": {}
      },
      "source": [
        "def calcular_ruta(RUTA,desde,hasta):\n",
        "  if desde == hasta : \n",
        "    return desde\n",
        "  else: \n",
        "    return str(calcular_ruta(RUTA, desde, RUTA[desde][hasta])) + ',' + str(RUTA[desde][hasta])\n",
        "\n",
        "print(\"\\nLa Ruta es : \" )\n",
        "calcular_ruta(RUTA,0,6)"
      ],
      "execution_count": null,
      "outputs": []
    },
    {
      "cell_type": "markdown",
      "metadata": {
        "id": "2IAC-VNHaW0i",
        "colab_type": "text"
      },
      "source": [
        "\n",
        "## RAMIFICACION Y PODA"
      ]
    },
    {
      "cell_type": "code",
      "metadata": {
        "id": "JWY_R-9XVWOl",
        "colab_type": "code",
        "colab": {
          "base_uri": "https://localhost:8080/",
          "height": 51
        },
        "outputId": "05f912e9-064c-4b9b-b4a9-c50503396f55"
      },
      "source": [
        "from time import time\n",
        "\n",
        "def valor(S,COSTES):\n",
        "  VALOR = 0\n",
        "  for i in range(len(S)):\n",
        "    VALOR += COSTES[i][S[i]]\n",
        "  return VALOR \n",
        "\n",
        "COSTES =[[11,12,18,40],[14,15,13,22],[11,17,19,23],[17,14,20,28]]\n",
        "\n",
        "start_time = time()\n",
        "print( valor((0,1,2,3),COSTES) )\n",
        "run_time = time() - start_time\n",
        "print(\"Calculo valor: %.10f seconds.\" % run_time)\n"
      ],
      "execution_count": 38,
      "outputs": [
        {
          "output_type": "stream",
          "text": [
            "73\n",
            "Calculo valor: 0.0001809597 seconds.\n"
          ],
          "name": "stdout"
        }
      ]
    },
    {
      "cell_type": "code",
      "metadata": {
        "id": "1gLfa3PsWzhC",
        "colab_type": "code",
        "colab": {
          "base_uri": "https://localhost:8080/",
          "height": 51
        },
        "outputId": "f4bcfee0-caa5-4280-b697-0c735d88cd26"
      },
      "source": [
        "# Fuerza Bruta\n",
        "from itertools import combinations,permutations\n",
        "\n",
        "def fuerza_bruta(COSTES):\n",
        "  mejorvalor = 10e10\n",
        "  mejorsolucion = ()\n",
        "  for s in list(permutations(range(len(COSTES)),4)):\n",
        "    valortmp = valor(s,COSTES)\n",
        "    if valortmp < mejorvalor :\n",
        "      mejorvalor = valortmp\n",
        "      mejorsolucion = s \n",
        "\n",
        "  print('mejor solucion: ' , mejorsolucion , ' con valor:' , mejorvalor )\n",
        "\n",
        "start_time = time()\n",
        "fuerza_bruta(COSTES)\n",
        "run_time = time() - start_time\n",
        "print(\"Calculo valor: %.10f seconds.\" % run_time)\n"
      ],
      "execution_count": 56,
      "outputs": [
        {
          "output_type": "stream",
          "text": [
            "mejor solucion:  (0, 2, 3, 1)  con valor: 61\n",
            "Calculo valor: 0.0002908707 seconds.\n"
          ],
          "name": "stdout"
        }
      ]
    },
    {
      "cell_type": "code",
      "metadata": {
        "id": "-HD5wXduo4-3",
        "colab_type": "code",
        "colab": {
          "base_uri": "https://localhost:8080/",
          "height": 34
        },
        "outputId": "21fdd5d8-be2e-41fe-8dfd-3380423127a1"
      },
      "source": [
        "#Funcion para estimar cota inferior de una solucion Parcial\n",
        "def CI(S,COSTES):\n",
        "  VALOR = 0\n",
        "  for i in range(len(S)):\n",
        "    VALOR += COSTES[i][S[i]]\n",
        "  for i in range(len(COSTES)):\n",
        "    if i not in S :\n",
        "      VALOR += min([ COSTES[j][i] for j in range(len(S), len(COSTES)) ])\n",
        "  return VALOR \n",
        "\n",
        "print(CI((1,3),COSTES))"
      ],
      "execution_count": 43,
      "outputs": [
        {
          "output_type": "stream",
          "text": [
            "64\n"
          ],
          "name": "stdout"
        }
      ]
    },
    {
      "cell_type": "code",
      "metadata": {
        "id": "MIdlt9YSsFyW",
        "colab_type": "code",
        "colab": {}
      },
      "source": [
        "#Funcion para Ramificar\n",
        "def crear_hijos(NODO,N):\n",
        "  HIJOS = []\n",
        "  for i in range(N):\n",
        "    if i not in NODO :\n",
        "      HIJOS.append({'s':NODO + (i,) })\n",
        "  return HIJOS \n"
      ],
      "execution_count": 41,
      "outputs": []
    },
    {
      "cell_type": "code",
      "metadata": {
        "id": "XpwD2H8DUQ-I",
        "colab_type": "code",
        "colab": {
          "base_uri": "https://localhost:8080/",
          "height": 51
        },
        "outputId": "89e69c0a-9e9a-4904-a36c-80d078972a44"
      },
      "source": [
        "def ramificacion_y_poda(COSTES):\n",
        "  DIMENSION = len(COSTES)\n",
        "  MEJOR_SOLUCION = tuple( i for i in range(len(COSTES)))\n",
        "  cotaSup = valor(MEJOR_SOLUCION , COSTES )\n",
        "\n",
        "  NODOS = []\n",
        "  NODOS.append({ 's':() , 'ci':CI((),COSTES )})\n",
        "  iteracion = 0\n",
        "\n",
        "  while (len(NODOS) > 0 ) :\n",
        "    iteracion += 1\n",
        "    nodo_prometedor = [ min(NODOS, key=lambda x:x['ci'] ) ][0]['s']\n",
        "\n",
        "    HIJOS = [ {'s':x['s'], 'ci':CI(x['s'], COSTES)} for x in crear_hijos(nodo_prometedor,DIMENSION)  ]\n",
        "\n",
        "    NODO_FINAL = [x for x in HIJOS if len(x['s']) == DIMENSION ]\n",
        "    if len(NODO_FINAL) > 0 :\n",
        "      if NODO_FINAL[0]['ci'] < cotaSup :\n",
        "        cotaSup = NODO_FINAL[0]['ci']\n",
        "        MEJOR_SOLUCION = NODO_FINAL\n",
        "    \n",
        "    HIJOS = [x for x in HIJOS if x['ci'] < cotaSup]\n",
        "\n",
        "    NODOS.extend(HIJOS)\n",
        "\n",
        "    NODOS = [ x for x in NODOS if x['s'] != nodo_prometedor ]\n",
        "\n",
        "  print('solucion final es: ', MEJOR_SOLUCION , ' en ' , iteracion , ' iteraciones', ' para Dimension: ' , DIMENSION )\n",
        "\n",
        "start_time = time()\n",
        "ramificacion_y_poda(COSTES)\n",
        "run_time = time() - start_time\n",
        "print(\"Calculo valor: %.10f seconds.\" % run_time)\n",
        "  "
      ],
      "execution_count": 57,
      "outputs": [
        {
          "output_type": "stream",
          "text": [
            "solucion final es:  [{'s': (0, 2, 3, 1), 'ci': 61}]  en  14  iteraciones  para Dimension:  4\n",
            "Calculo valor: 0.0009469986 seconds.\n"
          ],
          "name": "stdout"
        }
      ]
    },
    {
      "cell_type": "markdown",
      "metadata": {
        "id": "jzhhQQ9Y-24U",
        "colab_type": "text"
      },
      "source": [
        "## Analisis\n",
        "\n",
        "Complejidad Fuerza Burta es :  $O(n^2)$\n",
        "\n"
      ]
    },
    {
      "cell_type": "code",
      "metadata": {
        "id": "3CA4Urg39ZlA",
        "colab_type": "code",
        "colab": {
          "base_uri": "https://localhost:8080/",
          "height": 68
        },
        "outputId": "ae1afc74-f133-4809-9c42-b695f246a1bb"
      },
      "source": [
        "# Generacion de Matrices aleatorias\n",
        "\n",
        "import numpy as np\n",
        "COSTES5 = np.random.randint(100,size=(15,15))  # Matriz aleatoria de 15x15 numeros entre 0 y 100\n",
        "\n",
        "start_time = time()\n",
        "fuerza_bruta(COSTES5)\n",
        "run_time = time() - start_time\n",
        "print(\"Calculo Fuerza Bruta: %.10f seconds.\" % run_time , ' \\n')\n"
      ],
      "execution_count": 58,
      "outputs": [
        {
          "output_type": "stream",
          "text": [
            "mejor solucion:  (0, 13, 2, 9)  con valor: 42\n",
            "Calculo Fuerza Bruta: 0.0943853855 seconds.  \n",
            "\n"
          ],
          "name": "stdout"
        }
      ]
    },
    {
      "cell_type": "code",
      "metadata": {
        "id": "xrwnziJ3Ji9A",
        "colab_type": "code",
        "colab": {
          "base_uri": "https://localhost:8080/",
          "height": 51
        },
        "outputId": "9841de73-526b-4bc5-cc06-fa17a346b5a1"
      },
      "source": [
        "start_time = time()\n",
        "ramificacion_y_poda(COSTES5)\n",
        "run_time = time() - start_time\n",
        "print(\"Calculo Ramificacion y Poda: %.10f seconds.\" % run_time)"
      ],
      "execution_count": 59,
      "outputs": [
        {
          "output_type": "stream",
          "text": [
            "solucion final es:  [{'s': (8, 2, 7, 0, 9, 1, 5, 11, 12, 4, 6, 14, 10, 13, 3), 'ci': 145}]  en  4256  iteraciones  para Dimension:  15\n",
            "Calculo Ramificacion y Poda: 3.4852499962 seconds.\n"
          ],
          "name": "stdout"
        }
      ]
    },
    {
      "cell_type": "markdown",
      "metadata": {
        "id": "4LaGnx7aKWT0",
        "colab_type": "text"
      },
      "source": [
        "Se realizan varias pruebas con estos resultados y finalmente para una matrix de 15x15\n",
        "\n",
        "Calculo Fuerza Bruta: 0.0943853855 seconds.\n",
        "\n",
        "Calculo Ramificacion y Poda: 3.4852499962 seconds.\n",
        "\n",
        "Lo cual muestra que en el agoritmo de ramificacion y poda al cambiar la Dimension de 4 a 15 su tiempo de ejecucion aumento un 3001%."
      ]
    },
    {
      "cell_type": "markdown",
      "metadata": {
        "id": "erfiW2igMOfr",
        "colab_type": "text"
      },
      "source": [
        "## Descenso del Gradiente - Practica\n",
        "\n"
      ]
    },
    {
      "cell_type": "code",
      "metadata": {
        "id": "OYATnCDBNftg",
        "colab_type": "code",
        "colab": {
          "base_uri": "https://localhost:8080/",
          "height": 282
        },
        "outputId": "c9192610-a80c-495d-f339-2b227b94619f"
      },
      "source": [
        "import math\n",
        "import matplotlib.pyplot as plt\n",
        "import numpy as np\n",
        "import random\n",
        "\n",
        "f= lambda X: X[0]**2+X[1]**2\n",
        "df= lambda X: [2*X[0] , 2*X[1]]\n",
        "\n",
        "resolucion = 100\n",
        "rango=2.5\n",
        "X=np.linspace(-rango,rango,resolucion)\n",
        "Y=np.linspace(-rango,rango,resolucion)\n",
        "Z=np.zeros((resolucion,resolucion))\n",
        "for ix,x in enumerate(X):\n",
        "  for iy,y in enumerate(Y):\n",
        "    Z[iy,ix] = f([x,y])\n",
        "\n",
        "plt.contourf(X,Y,Z,resolucion)\n",
        "plt.colorbar()\n",
        "\n",
        "P=[random.uniform(-2,2) , random.uniform(-2,2)]\n",
        "plt.plot(P[0],P[1],'o',c='white')\n",
        "\n",
        "TA = .1\n",
        "for _ in range(500):\n",
        "  grad = df(P)\n",
        "  P[0],P[1] = P[0] - TA*grad[0] , P[1] - TA*grad[1]\n",
        "  plt.plot(P[0],P[1],'o',c='red')\n",
        "\n",
        "plt.plot(P[0],P[1],'o',c='green')\n",
        "plt.show()\n",
        "\n",
        "print('Solucion:' , P , f(P))\n",
        "\n",
        "\n",
        "\n",
        "\n",
        "\n",
        "\n",
        "\n",
        "\n"
      ],
      "execution_count": 3,
      "outputs": [
        {
          "output_type": "display_data",
          "data": {
            "image/png": "[encoded data removed]",
            "text/plain": [
              "<Figure size 432x288 with 2 Axes>"
            ]
          },
          "metadata": {
            "tags": [],
            "needs_background": "light"
          }
        },
        {
          "output_type": "stream",
          "text": [
            "Solucion: [5.2118296091049355e-49, 3.7073328327788124e-49] 4.090748460734268e-97\n"
          ],
          "name": "stdout"
        }
      ]
    },
    {
      "cell_type": "code",
      "metadata": {
        "id": "I7e-9mWARcIp",
        "colab_type": "code",
        "colab": {}
      },
      "source": [
        "f = lambda X: np.sin(1/2 * X[0]**2 - 1/4 * X[1]**2 +3) * np.cos(2*X[0]+1-np.e**X[1]   )\n",
        "\n",
        "def df(PUNTO):\n",
        "  h = 0.01\n",
        "  T = np.copy(PUNTO)\n",
        "  grad = np.zeros(2)\n",
        "  for it,th in enumerate(PUNTO):\n",
        "    T[it] = T[it]+h \n",
        "    grad[it] = (f[T] - f(PUNTO)) / h \n",
        "  return grad\n",
        "\n",
        "resolucion = 100\n",
        "rango=2.5\n",
        "X=np.linspace(-rango,rango,resolucion)\n",
        "Y=np.linspace(-rango,rango,resolucion)\n",
        "Z=np.zeros((resolucion,resolucion))\n",
        "for ix,x in enumerate(X):\n",
        "  for iy,y in enumerate(Y):\n",
        "    Z[iy,ix] = f([x,y])\n",
        "\n",
        "plt.contourf(X,Y,Z,resolucion)\n",
        "plt.colorbar()\n",
        "\n",
        "P=[random.uniform(-2,2) , random.uniform(-2,2)]\n",
        "plt.plot(P[0],P[1],'o',c='white')\n",
        "\n",
        "TA = .1\n",
        "for _ in range(500):\n",
        "  grad = df(P)\n",
        "  P[0],P[1] = P[0] - TA*grad[0] , P[1] - TA*grad[1]\n",
        "  plt.plot(P[0],P[1],'o',c='red')\n",
        "\n",
        "plt.plot(P[0],P[1],'o',c='green')\n",
        "plt.show()\n",
        "\n",
        "print('Solucion:' , P , f(P))\n",
        "\n"
      ],
      "execution_count": null,
      "outputs": []
    }
  ]
}